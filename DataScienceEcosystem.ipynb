{
  "nbformat": 4,
  "nbformat_minor": 0,
  "metadata": {
    "colab": {
      "provenance": [],
      "authorship_tag": "ABX9TyMQjw2xIJ6Tp7k2iOzgnD25",
      "include_colab_link": true
    },
    "kernelspec": {
      "name": "python3",
      "display_name": "Python 3"
    },
    "language_info": {
      "name": "python"
    }
  },
  "cells": [
    {
      "cell_type": "markdown",
      "metadata": {
        "id": "view-in-github",
        "colab_type": "text"
      },
      "source": [
        "<a href=\"https://colab.research.google.com/github/MarcoGiancola/Repository1/blob/main/DataScienceEcosystem.ipynb\" target=\"_parent\"><img src=\"https://colab.research.google.com/assets/colab-badge.svg\" alt=\"Open In Colab\"/></a>"
      ]
    },
    {
      "cell_type": "code",
      "execution_count": null,
      "metadata": {
        "id": "3vT4kgWhuuEd"
      },
      "outputs": [],
      "source": []
    },
    {
      "cell_type": "markdown",
      "source": [
        "# Data Science Tools and Ecosystem"
      ],
      "metadata": {
        "id": "6wiT8UaJvlUC"
      }
    },
    {
      "cell_type": "markdown",
      "source": [
        "## In this notebook, Data Science Tools and Ecosystem are summarized."
      ],
      "metadata": {
        "id": "OpO_39omyX6w"
      }
    },
    {
      "cell_type": "markdown",
      "source": [
        "**Objectives:**\n",
        "\n",
        "\n",
        "*   List popular languages for Data Science\n",
        "*   List popular libraries for Data Science\n",
        "*   3 open source tools for Data Science\n",
        "*   An example of evaluating arithmetic expressions in Python\n",
        "*   An expression that converts 200 minutes to hours by diving by 60\n",
        "\n",
        "\n",
        "\n",
        "\n",
        "\n"
      ],
      "metadata": {
        "id": "kVFJao-h277K"
      }
    },
    {
      "cell_type": "markdown",
      "source": [
        "####Some of the popular languages that Data Scientists use are:\n",
        "1.   Python\n",
        "2.   R\n",
        "3.   SQL\n",
        "4.   Java\n",
        "5.   Matlab\n",
        "6.   Julia\n",
        "7.   Scala\n",
        "8.   C/C++\n",
        "\n",
        "\n",
        "\n",
        "\n",
        "\n",
        "\n",
        "\n",
        "\n",
        "\n",
        "\n",
        "\n",
        "\n",
        "\n",
        "\n",
        "\n"
      ],
      "metadata": {
        "id": "X9BxYpwmKuTq"
      }
    },
    {
      "cell_type": "markdown",
      "source": [
        "####Some of the commonly used libraries used by Data Scientists include:\n",
        "1.   NumPy\n",
        "2.   Pandas\n",
        "3.   Matplotlib\n",
        "4.   Seaborn\n",
        "5.   Scikit-learn\n",
        "6.   Keras\n",
        "7.   TensorFlow\n",
        "8.   PyTorch\n",
        "\n",
        "\n",
        "\n",
        "\n",
        "\n",
        "\n",
        "\n"
      ],
      "metadata": {
        "id": "fg5SszbKOovq"
      }
    },
    {
      "cell_type": "markdown",
      "source": [
        "###**Data Science Tools**\n",
        "---\n",
        "###Jupyter Notebook\n",
        "---\n",
        "###RStudio\n",
        "---\n",
        "###Apache Zeppelin\n",
        "\n",
        "\n"
      ],
      "metadata": {
        "id": "d6QKuarDRLne"
      }
    },
    {
      "cell_type": "markdown",
      "source": [
        "###Below are a few examples of evaluating arithmetic expressions in Python"
      ],
      "metadata": {
        "id": "rKR2wIbBgMcB"
      }
    },
    {
      "cell_type": "code",
      "source": [
        "#This a simple arithmetic expression to mutiply then add integers\n",
        "(3*4)+5\n"
      ],
      "metadata": {
        "colab": {
          "base_uri": "https://localhost:8080/"
        },
        "id": "DzAkgfBThJ6A",
        "outputId": "1d26ce0b-0294-4d05-979e-54c9a77d7f66"
      },
      "execution_count": 1,
      "outputs": [
        {
          "output_type": "execute_result",
          "data": {
            "text/plain": [
              "17"
            ]
          },
          "metadata": {},
          "execution_count": 1
        }
      ]
    },
    {
      "cell_type": "code",
      "source": [
        "#This will convert 200 minutes to hours by diving by 60\n",
        "print(\"200 minutes =\", 200/60, \"hours\")"
      ],
      "metadata": {
        "colab": {
          "base_uri": "https://localhost:8080/"
        },
        "id": "Zy_CQ82-iFqN",
        "outputId": "c3938156-e403-4762-e6d4-bb490c0e3c27"
      },
      "execution_count": 3,
      "outputs": [
        {
          "output_type": "stream",
          "name": "stdout",
          "text": [
            "200 minutes = 3.3333333333333335 hours\n"
          ]
        }
      ]
    },
    {
      "cell_type": "markdown",
      "source": [
        "##Author\n",
        "Marco Giancola"
      ],
      "metadata": {
        "id": "s_1kkFcy7SpR"
      }
    }
  ]
}